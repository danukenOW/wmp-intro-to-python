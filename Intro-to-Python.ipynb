{
 "cells": [
  {
   "cell_type": "markdown",
   "id": "fa8d4377",
   "metadata": {},
   "source": [
    "## Intro to Python"
   ]
  },
  {
   "cell_type": "markdown",
   "id": "2ffaa131",
   "metadata": {},
   "source": [
    "### The Basics"
   ]
  },
  {
   "cell_type": "markdown",
   "id": "b68acc64",
   "metadata": {},
   "source": [
    "#### Printing"
   ]
  },
  {
   "cell_type": "markdown",
   "id": "9e9237d8",
   "metadata": {},
   "source": [
    "To print something in your output, we simply use the `print` function:"
   ]
  },
  {
   "cell_type": "code",
   "execution_count": null,
   "id": "e1249409",
   "metadata": {},
   "outputs": [],
   "source": [
    "print(\"Hello world\")"
   ]
  },
  {
   "cell_type": "markdown",
   "id": "0389c990",
   "metadata": {},
   "source": [
    "#### Numerical operations\n",
    "\n",
    "At it's most basic level, Python is a calculator. As such, you can perform all the usual operations you might expect:"
   ]
  },
  {
   "cell_type": "code",
   "execution_count": null,
   "id": "9001fdff",
   "metadata": {},
   "outputs": [],
   "source": [
    "# Addition\n",
    "8 + 5"
   ]
  },
  {
   "cell_type": "code",
   "execution_count": null,
   "id": "5bcff25f",
   "metadata": {},
   "outputs": [],
   "source": [
    "# Subtraction\n",
    "5 - 3"
   ]
  },
  {
   "cell_type": "code",
   "execution_count": null,
   "id": "f12e1986",
   "metadata": {},
   "outputs": [],
   "source": [
    "# Multiplication\n",
    "6*7"
   ]
  },
  {
   "cell_type": "code",
   "execution_count": null,
   "id": "87fa6646",
   "metadata": {},
   "outputs": [],
   "source": [
    "# Division\n",
    "16/4"
   ]
  },
  {
   "cell_type": "code",
   "execution_count": null,
   "id": "06e9062d",
   "metadata": {},
   "outputs": [],
   "source": [
    "# Exponentiation\n",
    "9**2"
   ]
  },
  {
   "cell_type": "markdown",
   "id": "3b0290c1",
   "metadata": {},
   "source": [
    "#### Variables\n",
    "\n",
    "In programming, we can define variables, which are essentially just named pieces of data. We can define a new variable (or overwrite the value of a pre-existing variable) by using the _assignment_ operator, which in Python, is just the `=` sign:"
   ]
  },
  {
   "cell_type": "code",
   "execution_count": null,
   "id": "543037cb",
   "metadata": {},
   "outputs": [],
   "source": [
    "my_name = \"Dan\"\n",
    "my_age = 35"
   ]
  },
  {
   "cell_type": "markdown",
   "id": "a46c63eb",
   "metadata": {},
   "source": [
    "Once I have assigned a value to a variable, that variable will continue to have that value until I change it. We can print a variable to determine its value:"
   ]
  },
  {
   "cell_type": "code",
   "execution_count": null,
   "id": "3d729006",
   "metadata": {},
   "outputs": [],
   "source": [
    "print(my_name)"
   ]
  },
  {
   "cell_type": "markdown",
   "id": "d4e1d3e1",
   "metadata": {},
   "source": [
    "Or perform operations on them:"
   ]
  },
  {
   "cell_type": "code",
   "execution_count": null,
   "id": "59651882",
   "metadata": {},
   "outputs": [],
   "source": [
    "first_number = 42\n",
    "second_number = 15"
   ]
  },
  {
   "cell_type": "code",
   "execution_count": null,
   "id": "f8f0c11f",
   "metadata": {},
   "outputs": [],
   "source": [
    "first_number + second_number"
   ]
  },
  {
   "cell_type": "code",
   "execution_count": null,
   "id": "647c6684",
   "metadata": {},
   "outputs": [],
   "source": [
    "first_number*second_number"
   ]
  },
  {
   "cell_type": "markdown",
   "id": "6feb9459",
   "metadata": {},
   "source": [
    "#### Data types\n",
    "\n",
    "All variables have a data _type_, which depends on the type of data they hold. The fundamental datatypes for the core Python programming language are:\n",
    "\n",
    "- Integers\n",
    "- Floats (floating point numbers, a.k.a. decimal numbers)\n",
    "- Strings (sequences of characters)\n",
    "- Booleans (True/False values)"
   ]
  },
  {
   "cell_type": "code",
   "execution_count": null,
   "id": "382294e1",
   "metadata": {},
   "outputs": [],
   "source": [
    "int_var = 5\n",
    "type(int_var)"
   ]
  },
  {
   "cell_type": "code",
   "execution_count": null,
   "id": "37c18cde",
   "metadata": {},
   "outputs": [],
   "source": [
    "float_var = 3.1415\n",
    "type(float_var)"
   ]
  },
  {
   "cell_type": "code",
   "execution_count": null,
   "id": "34f32541",
   "metadata": {},
   "outputs": [],
   "source": [
    "string_var = 'I love Python'\n",
    "type(string_var)"
   ]
  },
  {
   "cell_type": "code",
   "execution_count": null,
   "id": "8e98a74a",
   "metadata": {},
   "outputs": [],
   "source": [
    "boolean_var = False\n",
    "type(boolean_var)"
   ]
  },
  {
   "cell_type": "markdown",
   "id": "0a0069c8",
   "metadata": {},
   "source": [
    "#### Conditions\n",
    "\n",
    "We can also check for the truth value of conditions by using conditional operators. The output will be a boolean (True/False) value:"
   ]
  },
  {
   "cell_type": "code",
   "execution_count": null,
   "id": "0dc63aec",
   "metadata": {},
   "outputs": [],
   "source": [
    "# Less than or greater than\n",
    "print(5 < 4)\n",
    "print(2 > 1)"
   ]
  },
  {
   "cell_type": "code",
   "execution_count": null,
   "id": "f789fbbc",
   "metadata": {},
   "outputs": [],
   "source": [
    "# Checking if two values are equal - note the double equals sign\n",
    "print('Apples' == 'Oranges')\n",
    "print('Apples' == 'Apples')"
   ]
  },
  {
   "cell_type": "markdown",
   "id": "10c70242",
   "metadata": {},
   "source": [
    "#### Lists"
   ]
  },
  {
   "cell_type": "markdown",
   "id": "bc01b213",
   "metadata": {},
   "source": [
    "There are many more datatypes than the fundamental ones outlined above, but they are beyond the scope of this session. However, one other useful datatype to know about is the **list** type. Lists are _compound_ datatypes that can be collections of other data types. We define them using square brackets:"
   ]
  },
  {
   "cell_type": "code",
   "execution_count": null,
   "id": "610c14e8",
   "metadata": {},
   "outputs": [],
   "source": [
    "# A list of strings\n",
    "my_list = [\"Apples\", \"Oranges\", \"Bananas\"]\n",
    "print(my_list)"
   ]
  },
  {
   "cell_type": "markdown",
   "id": "46acad78",
   "metadata": {},
   "source": [
    "The above list is a list of three string values, but we could have a list of numbers too:"
   ]
  },
  {
   "cell_type": "code",
   "execution_count": null,
   "id": "9f80b49a",
   "metadata": {},
   "outputs": [],
   "source": [
    "# A list of numbers\n",
    "my_list = [1, -15, 2.718]\n",
    "print(my_list)"
   ]
  },
  {
   "cell_type": "markdown",
   "id": "4c5e8942",
   "metadata": {},
   "source": [
    "Or even a list of different datatypes:"
   ]
  },
  {
   "cell_type": "code",
   "execution_count": null,
   "id": "41058321",
   "metadata": {},
   "outputs": [],
   "source": [
    "my_list = [7, \"Instagram\", True, 1.618]"
   ]
  },
  {
   "cell_type": "markdown",
   "id": "9be32cc6",
   "metadata": {},
   "source": [
    "In Python, compound datatypes can be indexed using square brackets:"
   ]
  },
  {
   "cell_type": "code",
   "execution_count": null,
   "id": "c1740908",
   "metadata": {},
   "outputs": [],
   "source": [
    "my_list[1]"
   ]
  },
  {
   "cell_type": "markdown",
   "id": "bfdde9e2",
   "metadata": {},
   "source": [
    "### Using Python Packages\n",
    "\n",
    "Provided we have a package installed on our computer, we can use it in our Python code by _importing_ it. To do this, we use the `import` command. In the cell below, we import the **Pandas** package"
   ]
  },
  {
   "cell_type": "code",
   "execution_count": null,
   "id": "7eed4fee",
   "metadata": {},
   "outputs": [],
   "source": [
    "import pandas"
   ]
  },
  {
   "cell_type": "markdown",
   "id": "10c385a4",
   "metadata": {},
   "source": [
    "After executing this line, the Pandas package is now imported into our coding environment, and we have access to all of the data structures and functions contained therein. To access a function from the Pandas package, we then need to reference Pandas, so the Python interpreter program knows where to look for it. In the cell below, we create an instance of a tabular data structure which is defined in the Pandas package - the DataFrame:"
   ]
  },
  {
   "cell_type": "code",
   "execution_count": null,
   "id": "f22ebac8",
   "metadata": {},
   "outputs": [],
   "source": [
    "df = pandas.DataFrame({'A': [1, 2, 3], 'B': ['a', 'b', 'c']})\n",
    "df"
   ]
  },
  {
   "cell_type": "markdown",
   "id": "c52cd3c0",
   "metadata": {},
   "source": [
    "It can be a bit annoying to have to type out the full package name every time we want to use one of its functions, so instead, we normally give the package an alias when we import it:"
   ]
  },
  {
   "cell_type": "code",
   "execution_count": null,
   "id": "d0e2f416",
   "metadata": {},
   "outputs": [],
   "source": [
    "import pandas as pd"
   ]
  },
  {
   "cell_type": "markdown",
   "id": "f2ea858d",
   "metadata": {},
   "source": [
    "Now we only need to use the name `pd` whenever referencing a Pandas function:"
   ]
  },
  {
   "cell_type": "code",
   "execution_count": null,
   "id": "389356e0",
   "metadata": {},
   "outputs": [],
   "source": [
    "df = pd.DataFrame({'A':[1, 2, 3], 'B': ['a', 'b', 'c']})\n",
    "df"
   ]
  },
  {
   "cell_type": "markdown",
   "id": "ed7dbcff",
   "metadata": {},
   "source": [
    "### The Pandas Package\n",
    "\n",
    "The Pandas (short for **Pan**el **Da**ta) package is one of the most commonly used packages in Python work at Oliver Wyman. It is a fundamental package for working with tabular data and is able to handle much larger datasets than Excel, while at the same time being quicker. "
   ]
  },
  {
   "cell_type": "markdown",
   "id": "18719457",
   "metadata": {},
   "source": [
    "#### Importing Data\n",
    "\n",
    "When performing some data analysis, the first thing you'll need to do is read it from some source into Python. The data could be\n",
    "\n",
    "- in a file on your computer\n",
    "- in a database\n",
    "- hosted on a cloud service\n",
    "\n",
    "Pandas has many functions to enable reading in your data from where it is. For us, our data is hosted in a CSV file on a cloud service called GitHub. To read in our data we can therefore use the `read_csv` function from Pandas:"
   ]
  },
  {
   "cell_type": "code",
   "execution_count": null,
   "id": "0b988301",
   "metadata": {},
   "outputs": [],
   "source": [
    "df = pd.read_csv(\"https://raw.githubusercontent.com/danukenOW/wmp-intro-to-python/main/song_data.csv\") "
   ]
  },
  {
   "cell_type": "markdown",
   "id": "733bca38",
   "metadata": {},
   "source": [
    "#### Viewing the data\n",
    "\n",
    "We can view the top 5 rows of our dataset by using the `head` method. A method is a special kind of function which works on some data structure. To access it, we use a dot notation:"
   ]
  },
  {
   "cell_type": "code",
   "execution_count": null,
   "id": "1afeba9e",
   "metadata": {},
   "outputs": [],
   "source": [
    "df.head()"
   ]
  },
  {
   "cell_type": "markdown",
   "id": "94b9af49",
   "metadata": {},
   "source": [
    "We could also use the `tail` method instead if we wanted to view the bottom 5 rows. This dot notation is used whenever we want to perform some operation or calculation on our dataset.\n",
    "\n",
    "#### Filtering/selecting data\n",
    "\n",
    "To select a single column of our dataset, we use square brackets, like we did with lists. In the square brackets, we must provide the name of the column:"
   ]
  },
  {
   "cell_type": "code",
   "execution_count": null,
   "id": "a013e1ba",
   "metadata": {},
   "outputs": [],
   "source": [
    "# Select a row\n",
    "df['title']"
   ]
  },
  {
   "cell_type": "markdown",
   "id": "133fde27",
   "metadata": {},
   "source": [
    "To select rows of our dataset, we use the `loc` (location) operator:"
   ]
  },
  {
   "cell_type": "code",
   "execution_count": null,
   "id": "33773ece",
   "metadata": {},
   "outputs": [],
   "source": [
    "df.loc[0]"
   ]
  },
  {
   "cell_type": "markdown",
   "id": "0143937e",
   "metadata": {},
   "source": [
    "We can also use the loc operator when we want to filter our dataset based on some condition. For example, if we wanted to select all the rows where the `album_year` is 1994 we would do the following:"
   ]
  },
  {
   "cell_type": "code",
   "execution_count": null,
   "id": "0aed58d0",
   "metadata": {},
   "outputs": [],
   "source": [
    "df.loc[df['album_year']==1994]"
   ]
  },
  {
   "cell_type": "markdown",
   "id": "58afb6ed",
   "metadata": {},
   "source": [
    "#### Summary statistics\n",
    "\n",
    "We can also get summary statistics for our data, using the appropriate method:"
   ]
  },
  {
   "cell_type": "code",
   "execution_count": null,
   "id": "d07392aa",
   "metadata": {},
   "outputs": [],
   "source": [
    "print(df['popularity'].mean())\n",
    "print(df['duration_seconds'].max())\n",
    "print(df['album_year'].min())"
   ]
  },
  {
   "cell_type": "markdown",
   "id": "371ea411",
   "metadata": {},
   "source": [
    "Or view how many rows correspond to a specific value in the dataset:"
   ]
  },
  {
   "cell_type": "code",
   "execution_count": null,
   "id": "4e888816",
   "metadata": {},
   "outputs": [],
   "source": [
    "df['key'].value_counts()"
   ]
  },
  {
   "cell_type": "markdown",
   "id": "e3ec4807",
   "metadata": {},
   "source": [
    "#### Creating a new dataframe\n",
    "\n",
    "If you want to create a new dataframe which is some filtered view of the original, you can always do so by saving the view to a new variable:"
   ]
  },
  {
   "cell_type": "code",
   "execution_count": null,
   "id": "3ac600af",
   "metadata": {
    "scrolled": true
   },
   "outputs": [],
   "source": [
    "mariah_carey_songs = df.loc[df['artist']=='Mariah Carey']\n",
    "mariah_carey_songs.head()"
   ]
  },
  {
   "cell_type": "markdown",
   "id": "ffc13509",
   "metadata": {},
   "source": [
    "### Exercise\n",
    "\n",
    "You have been approached by a popular music streaming service and asked to get some insights about the most popular songs on their platform.\n",
    "\n",
    "Using what you know about Pandas, and the dataset above on the Daily Top 50 List from 2023, answer the following questions:\n",
    "\n",
    "1. How many songs are older than 5 years old?\n",
    "2. What is the average duration of a song in the Top 50?\n",
    "3. Are there more explicit or non-explicit songs in the Top 50?\n",
    "4. Do Top 50 songs tend to be more dancy? Or more acoustic?\n",
    "5. Which artist(s) has had the most number 1 songs?\n",
    "\n",
    "**Extra challenge:**\n",
    "\n",
    "Do songs with higher speechiness (> 0.5) tend to be more explicit than lower speechiness songs?"
   ]
  },
  {
   "cell_type": "code",
   "execution_count": null,
   "id": "741d0e94",
   "metadata": {},
   "outputs": [],
   "source": [
    "# Question 1\n"
   ]
  },
  {
   "cell_type": "code",
   "execution_count": null,
   "id": "fab1c4e0",
   "metadata": {},
   "outputs": [],
   "source": [
    "# Question 2\n"
   ]
  },
  {
   "cell_type": "code",
   "execution_count": null,
   "id": "c23c1ff8",
   "metadata": {},
   "outputs": [],
   "source": [
    "# Question 3\n"
   ]
  },
  {
   "cell_type": "code",
   "execution_count": null,
   "id": "5ca59e60",
   "metadata": {},
   "outputs": [],
   "source": [
    "# Question 4\n"
   ]
  },
  {
   "cell_type": "code",
   "execution_count": null,
   "id": "1818ef5e",
   "metadata": {},
   "outputs": [],
   "source": [
    "# Question 5\n"
   ]
  }
 ],
 "metadata": {
  "kernelspec": {
   "display_name": "Python 3 (ipykernel)",
   "language": "python",
   "name": "python3"
  },
  "language_info": {
   "codemirror_mode": {
    "name": "ipython",
    "version": 3
   },
   "file_extension": ".py",
   "mimetype": "text/x-python",
   "name": "python",
   "nbconvert_exporter": "python",
   "pygments_lexer": "ipython3",
   "version": "3.9.5"
  },
  "toc": {
   "base_numbering": 1,
   "nav_menu": {},
   "number_sections": true,
   "sideBar": true,
   "skip_h1_title": false,
   "title_cell": "Table of Contents",
   "title_sidebar": "Contents",
   "toc_cell": false,
   "toc_position": {},
   "toc_section_display": true,
   "toc_window_display": false
  }
 },
 "nbformat": 4,
 "nbformat_minor": 5
}
